{
 "cells": [
  {
   "cell_type": "code",
   "execution_count": 41,
   "id": "58cae1d3",
   "metadata": {},
   "outputs": [],
   "source": [
    "import torch\n",
    "from torch import nn\n",
    "import torchvision.models as models\n",
    "from models import CNNModel\n",
    "from train_test import train, test\n",
    "from dataset import get_train_val_test_dataloader"
   ]
  },
  {
   "cell_type": "code",
   "execution_count": 53,
   "id": "2d5287be",
   "metadata": {},
   "outputs": [],
   "source": [
    "class arguments:\n",
    "    def __init__(self,\n",
    "                 data_dir='../Data/Pixel50/',\n",
    "                 train_val_proportion=0.9,\n",
    "                 train_proportion=0.7,\n",
    "                 seed=42,\n",
    "                 epochs=10,\n",
    "                 batch_size=32,\n",
    "                 lr=1e-4,\n",
    "                ):\n",
    "        self.data_dir = data_dir\n",
    "        # 0.9: train : val : test = 0.7 : 0.2 : 0.1\n",
    "        self.train_val_proportion = train_val_proportion\n",
    "        self.train_proportion = train_proportion\n",
    "        self.seed = seed\n",
    "        self.epochs = epochs\n",
    "        self.batch_size = batch_size\n",
    "        self.lr = lr\n",
    "        self.device = \"cuda\" if torch.cuda.is_available() else \"cpu\""
   ]
  },
  {
   "cell_type": "code",
   "execution_count": 54,
   "id": "f970c9b9",
   "metadata": {},
   "outputs": [],
   "source": [
    "def main(model,args):\n",
    "    train_dataloader, val_dataloader, test_dataloader = get_train_val_test_dataloader(args)\n",
    "    print(f\"Using {args.device} device\")\n",
    "\n",
    "    # training and validation\n",
    "    loss_fn = torch.nn.CrossEntropyLoss()\n",
    "    optimizer = optimizer = torch.optim.Adam(model.parameters(), lr=args.lr)\n",
    "\n",
    "    for t in range(args.epochs):\n",
    "        print(f\"Epoch {t+1}\\n-------------------------------\")\n",
    "        train_loss = train(args, train_dataloader, model, loss_fn, optimizer)\n",
    "        val_loss, correct = test(args, val_dataloader, model, loss_fn)\n",
    "        print('training loss: {}, val loss: {}, correct: {}'.format(train_loss, val_loss, correct))\n",
    "    print(\"Done!\")\n",
    "\n",
    "    # test\n",
    "    test_loss, correct = test(args, test_dataloader, model, loss_fn)\n",
    "    print('\\n\\n ############## \\n test loss: {} correct: {}'.format(test_loss, correct))"
   ]
  },
  {
   "cell_type": "code",
   "execution_count": 55,
   "id": "95d3f1c9",
   "metadata": {},
   "outputs": [
    {
     "name": "stdout",
     "output_type": "stream",
     "text": [
      "Using cpu device\n",
      "Epoch 1\n",
      "-------------------------------\n",
      "training loss: 0.41880180845433906, val loss: 0.14207780081778765, correct: 0.9550438596491229\n",
      "Epoch 2\n",
      "-------------------------------\n",
      "training loss: 0.194262998108577, val loss: 0.14140280697430516, correct: 0.9594298245614035\n",
      "Epoch 3\n",
      "-------------------------------\n",
      "training loss: 0.14743406516978316, val loss: 0.13102565387841955, correct: 0.9671052631578947\n",
      "Epoch 4\n",
      "-------------------------------\n",
      "training loss: 0.12726454472257978, val loss: 0.1278029671259995, correct: 0.9616228070175439\n",
      "Epoch 5\n",
      "-------------------------------\n",
      "training loss: 0.10018051018644321, val loss: 0.0996248159669982, correct: 0.9725877192982456\n",
      "Epoch 6\n",
      "-------------------------------\n",
      "training loss: 0.09152203778220448, val loss: 0.11059128133387401, correct: 0.9725877192982456\n",
      "Epoch 7\n",
      "-------------------------------\n",
      "training loss: 0.07209013515317761, val loss: 0.11138501532118895, correct: 0.9725877192982456\n",
      "Epoch 8\n",
      "-------------------------------\n",
      "training loss: 0.07537420118054874, val loss: 0.0983755515310271, correct: 0.9692982456140351\n",
      "Epoch 9\n",
      "-------------------------------\n",
      "training loss: 0.04801096485689618, val loss: 0.11067843951830833, correct: 0.9747807017543859\n",
      "Epoch 10\n",
      "-------------------------------\n",
      "training loss: 0.06128719685608545, val loss: 0.11100133713174226, correct: 0.9692982456140351\n",
      "Done!\n",
      "\n",
      "\n",
      " ############## \n",
      " test loss: 0.10909191714599728 correct: 0.9714285714285714\n"
     ]
    }
   ],
   "source": [
    "# basic CNN model (Alexnet)\n",
    "args = arguments()\n",
    "model = CNNModel().to(args.device)\n",
    "main(model,args)"
   ]
  },
  {
   "cell_type": "code",
   "execution_count": 8,
   "id": "50cd24ac",
   "metadata": {},
   "outputs": [
    {
     "name": "stdout",
     "output_type": "stream",
     "text": [
      "Using cpu device\n",
      "Epoch 1\n",
      "-------------------------------\n",
      "training loss: 0.9626805488029518, val loss: 0.15823816334636048, correct: 0.9583333333333334\n",
      "Epoch 2\n",
      "-------------------------------\n",
      "training loss: 0.0840410594700049, val loss: 0.1325802842219328, correct: 0.9616228070175439\n",
      "Epoch 3\n",
      "-------------------------------\n",
      "training loss: 0.03383578295658406, val loss: 0.10867415908884642, correct: 0.9682017543859649\n",
      "Epoch 4\n",
      "-------------------------------\n",
      "training loss: 0.03211427682119055, val loss: 0.10640876973850717, correct: 0.9725877192982456\n",
      "Epoch 5\n",
      "-------------------------------\n",
      "training loss: 0.024578628776084986, val loss: 0.12075216633042898, correct: 0.9605263157894737\n",
      "Epoch 6\n",
      "-------------------------------\n",
      "training loss: 0.02414241527705535, val loss: 0.1561799131109026, correct: 0.9495614035087719\n",
      "Epoch 7\n",
      "-------------------------------\n",
      "training loss: 0.016553997615338267, val loss: 0.10616089271758844, correct: 0.9703947368421053\n",
      "Epoch 8\n",
      "-------------------------------\n",
      "training loss: 0.007078104719279199, val loss: 0.11128154448494476, correct: 0.9758771929824561\n",
      "Epoch 9\n",
      "-------------------------------\n",
      "training loss: 0.013452737026131317, val loss: 0.11760125776997703, correct: 0.9714912280701754\n",
      "Epoch 10\n",
      "-------------------------------\n",
      "training loss: 0.02439814135064616, val loss: 0.15696179081188066, correct: 0.9649122807017544\n",
      "Done!\n",
      "\n",
      "\n",
      " ############## \n",
      " test loss: 0.13895179169873398 correct: 0.9714285714285714\n"
     ]
    }
   ],
   "source": [
    "# resnet18\n",
    "args = arguments()\n",
    "resnet18 = models.resnet18()\n",
    "main(resnet18,args)"
   ]
  },
  {
   "cell_type": "code",
   "execution_count": 9,
   "id": "12b81b88",
   "metadata": {},
   "outputs": [
    {
     "name": "stdout",
     "output_type": "stream",
     "text": [
      "Using cpu device\n",
      "Epoch 1\n",
      "-------------------------------\n",
      "training loss: 1.029653443149606, val loss: 0.1565239428189294, correct: 0.9495614035087719\n",
      "Epoch 2\n",
      "-------------------------------\n",
      "training loss: 0.1786153281205579, val loss: 0.16733225274445682, correct: 0.9682017543859649\n",
      "Epoch 3\n",
      "-------------------------------\n",
      "training loss: 0.1793160820263146, val loss: 0.11694430479587152, correct: 0.9682017543859649\n",
      "Epoch 4\n",
      "-------------------------------\n",
      "training loss: 0.11581674415646191, val loss: 0.15830233820728107, correct: 0.9605263157894737\n",
      "Epoch 5\n",
      "-------------------------------\n",
      "training loss: 0.09984945036344846, val loss: 0.1970389004443483, correct: 0.9462719298245614\n",
      "Epoch 6\n",
      "-------------------------------\n",
      "training loss: 0.07376764865065773, val loss: 0.13339760744691312, correct: 0.9736842105263158\n",
      "Epoch 7\n",
      "-------------------------------\n",
      "training loss: 0.06081471289150629, val loss: 0.11965029557177331, correct: 0.9703947368421053\n",
      "Epoch 8\n",
      "-------------------------------\n",
      "training loss: 0.067670272849967, val loss: 0.5171780113516182, correct: 0.9111842105263158\n",
      "Epoch 9\n",
      "-------------------------------\n",
      "training loss: 0.09926861266659241, val loss: 0.0840528695683541, correct: 0.9802631578947368\n",
      "Epoch 10\n",
      "-------------------------------\n",
      "training loss: 0.05135335071282044, val loss: 0.1311959474533696, correct: 0.9627192982456141\n",
      "Done!\n",
      "\n",
      "\n",
      " ############## \n",
      " test loss: 0.1429798135398111 correct: 0.9648351648351648\n"
     ]
    }
   ],
   "source": [
    "# vgg16 model\n",
    "args = arguments()\n",
    "vgg16 = models.vgg16()\n",
    "main(vgg16,args)"
   ]
  },
  {
   "cell_type": "code",
   "execution_count": 57,
   "id": "861e1fa5",
   "metadata": {},
   "outputs": [
    {
     "name": "stdout",
     "output_type": "stream",
     "text": [
      "Using cpu device\n",
      "Epoch 1\n",
      "-------------------------------\n",
      "training loss: 4.110447205995259, val loss: 1.9494767065705925, correct: 0.7664473684210527\n",
      "Epoch 2\n",
      "-------------------------------\n",
      "training loss: 0.6557264559549796, val loss: 0.38808426029723264, correct: 0.9122807017543859\n",
      "Epoch 3\n",
      "-------------------------------\n",
      "training loss: 0.31995239405703724, val loss: 0.2893243994692276, correct: 0.9210526315789473\n",
      "Epoch 4\n",
      "-------------------------------\n",
      "training loss: 0.20390509222085612, val loss: 0.2696157197371639, correct: 0.9265350877192983\n",
      "Epoch 5\n",
      "-------------------------------\n",
      "training loss: 0.1626299050330817, val loss: 0.268733320886205, correct: 0.9364035087719298\n",
      "Epoch 6\n",
      "-------------------------------\n",
      "training loss: 0.10065244019666411, val loss: 0.2611360783881411, correct: 0.9364035087719298\n",
      "Epoch 7\n",
      "-------------------------------\n",
      "training loss: 0.10344661841575141, val loss: 0.27604974292475604, correct: 0.930921052631579\n",
      "Epoch 8\n",
      "-------------------------------\n",
      "training loss: 0.07485970863162127, val loss: 0.3123074449149185, correct: 0.9298245614035088\n",
      "Epoch 9\n",
      "-------------------------------\n",
      "training loss: 0.06951342932039634, val loss: 0.2654313805015308, correct: 0.9385964912280702\n",
      "Epoch 10\n",
      "-------------------------------\n",
      "training loss: 0.06343875643108647, val loss: 0.2740396773442626, correct: 0.9331140350877193\n",
      "Done!\n",
      "\n",
      "\n",
      " ############## \n",
      " test loss: 0.3090850819212695 correct: 0.9186813186813186\n"
     ]
    }
   ],
   "source": [
    "# efficientnet model\n",
    "args = arguments()\n",
    "efficientnet = models.efficientnet_b0()\n",
    "main(efficientnet,args)"
   ]
  },
  {
   "cell_type": "code",
   "execution_count": 60,
   "id": "c8e0293a",
   "metadata": {},
   "outputs": [
    {
     "name": "stdout",
     "output_type": "stream",
     "text": [
      "Using cpu device\n",
      "Epoch 1\n",
      "-------------------------------\n",
      "training loss: 2.1457447074913887, val loss: 0.16573817257223458, correct: 0.9649122807017544\n",
      "Epoch 2\n",
      "-------------------------------\n",
      "training loss: 0.07767207807112009, val loss: 0.11435237225016644, correct: 0.9692982456140351\n",
      "Epoch 3\n",
      "-------------------------------\n",
      "training loss: 0.027527491596497054, val loss: 0.0949142268409246, correct: 0.9758771929824561\n",
      "Epoch 4\n",
      "-------------------------------\n",
      "training loss: 0.015550605267377332, val loss: 0.09309872199684896, correct: 0.9725877192982456\n",
      "Epoch 5\n",
      "-------------------------------\n",
      "training loss: 0.01140454329694983, val loss: 0.08851599278217502, correct: 0.9780701754385965\n",
      "Done!\n",
      "\n",
      "\n",
      " ############## \n",
      " test loss: 0.06687044937085981 correct: 0.978021978021978\n"
     ]
    }
   ],
   "source": [
    "# resnet18 with pretrained model\n",
    "args = arguments(epochs=5)\n",
    "resnet18 = models.resnet18(pretrained=True)\n",
    "main(resnet18,args)"
   ]
  },
  {
   "cell_type": "code",
   "execution_count": null,
   "id": "7ef4aed7",
   "metadata": {},
   "outputs": [],
   "source": []
  }
 ],
 "metadata": {
  "kernelspec": {
   "display_name": "pytorch",
   "language": "python",
   "name": "pytorch"
  },
  "language_info": {
   "codemirror_mode": {
    "name": "ipython",
    "version": 3
   },
   "file_extension": ".py",
   "mimetype": "text/x-python",
   "name": "python",
   "nbconvert_exporter": "python",
   "pygments_lexer": "ipython3",
   "version": "3.8.12"
  }
 },
 "nbformat": 4,
 "nbformat_minor": 5
}
