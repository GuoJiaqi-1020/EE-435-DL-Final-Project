{
 "cells": [
  {
   "cell_type": "code",
   "execution_count": 1,
   "metadata": {},
   "outputs": [],
   "source": [
    "import numpy as np\n",
    "import matplotlib.pyplot as plt\n",
    "import torch\n",
    "from dataset import *\n",
    "from torch.utils.data import random_split\n",
    "from math import ceil"
   ]
  },
  {
   "cell_type": "code",
   "execution_count": 2,
   "metadata": {},
   "outputs": [],
   "source": [
    "class arguments:\n",
    "    # data\n",
    "    data_dir = 'Data/Pixel50/'\n",
    "    # train : val : test = 0.7 : 0.2 : 0.1\n",
    "    train_val_proportion = 0.9\n",
    "    train_proportion = 0.7\n",
    "    seed = 42\n",
    "\n",
    "    # training setting\n",
    "    epoch = 10\n",
    "    batch_size = 32\n",
    "    lr = 0.01\n",
    "    device = \"cuda\" if torch.cuda.is_available() else \"cpu\"\n",
    "args = arguments()"
   ]
  },
  {
   "cell_type": "code",
   "execution_count": 3,
   "metadata": {},
   "outputs": [],
   "source": [
    "train_dataloader, val_dataloader, test_dataloader = get_train_val_test_dataloader(args)"
   ]
  }
 ],
 "metadata": {
  "interpreter": {
   "hash": "cd876119c40028cab099c61ef2a2b5818981311f73eb916c96f6645cbc4fa9aa"
  },
  "kernelspec": {
   "display_name": "Python 3",
   "language": "python",
   "name": "python3"
  },
  "language_info": {
   "codemirror_mode": {
    "name": "ipython",
    "version": 3
   },
   "file_extension": ".py",
   "mimetype": "text/x-python",
   "name": "python",
   "nbconvert_exporter": "python",
   "pygments_lexer": "ipython3",
   "version": "3.7.0"
  }
 },
 "nbformat": 4,
 "nbformat_minor": 2
}
